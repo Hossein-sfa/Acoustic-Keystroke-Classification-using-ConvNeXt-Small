{
  "cells": [
    {
      "cell_type": "code",
      "execution_count": 2,
      "metadata": {
        "colab": {
          "base_uri": "https://localhost:8080/"
        },
        "id": "ngV59-kSOpvH",
        "outputId": "1bda2882-6401-430f-c601-96ef93b7177f"
      },
      "outputs": [
        {
          "metadata": {
            "tags": null
          },
          "name": "stdout",
          "output_type": "stream",
          "text": [
            "Device: cuda\n",
            ">> Building strokes ...\n"
          ]
        },
        {
          "metadata": {
            "tags": null
          },
          "name": "stderr",
          "output_type": "stream",
          "text": [
            "Extracting from Zoom: 100%|██████████| 36/36 [00:02<00:00, 14.05it/s]\n"
          ]
        },
        {
          "metadata": {
            "tags": null
          },
          "name": "stdout",
          "output_type": "stream",
          "text": [
            "Total strokes: 900\n"
          ]
        },
        {
          "metadata": {
            "tags": null
          },
          "name": "stderr",
          "output_type": "stream",
          "text": [
            "Center-crop + 3ch mel: 100%|██████████| 900/900 [00:08<00:00, 109.85it/s]\n"
          ]
        },
        {
          "metadata": {
            "tags": null
          },
          "name": "stdout",
          "output_type": "stream",
          "text": [
            "X shape: (900, 3, 64, 64) num classes: 36\n",
            "Train: (675, 3, 64, 64)  Test: (225, 3, 64, 64)\n"
          ]
        },
        {
          "metadata": {
            "tags": null
          },
          "name": "stderr",
          "output_type": "stream",
          "text": [
            "Train E001:   0%|          | 0/11 [00:00<?, ?it/s]/usr/local/lib/python3.12/dist-packages/torch/optim/lr_scheduler.py:192: UserWarning: Detected call of `lr_scheduler.step()` before `optimizer.step()`. In PyTorch 1.1.0 and later, you should call them in the opposite order: `optimizer.step()` before `lr_scheduler.step()`.  Failure to do this will result in PyTorch skipping the first value of the learning rate schedule. See more details at https://pytorch.org/docs/stable/optim.html#how-to-adjust-learning-rate\n",
            "  warnings.warn(\n",
            "Train E001: 100%|██████████| 11/11 [00:01<00:00,  6.91it/s]\n"
          ]
        },
        {
          "metadata": {
            "tags": null
          },
          "name": "stdout",
          "output_type": "stream",
          "text": [
            "Epoch 001 | Train 3.8996/0.0341 | Val 3.6685/0.0267\n",
            "  -> Saved best: 0.02666666666666667\n"
          ]
        },
        {
          "metadata": {
            "tags": null
          },
          "name": "stderr",
          "output_type": "stream",
          "text": [
            "Train E002: 100%|██████████| 11/11 [00:01<00:00, 10.28it/s]\n"
          ]
        },
        {
          "metadata": {
            "tags": null
          },
          "name": "stdout",
          "output_type": "stream",
          "text": [
            "Epoch 002 | Train 3.6368/0.0430 | Val 3.6131/0.0267\n"
          ]
        },
        {
          "metadata": {
            "tags": null
          },
          "name": "stderr",
          "output_type": "stream",
          "text": [
            "Train E003: 100%|██████████| 11/11 [00:01<00:00, 10.49it/s]\n"
          ]
        },
        {
          "metadata": {
            "tags": null
          },
          "name": "stdout",
          "output_type": "stream",
          "text": [
            "Epoch 003 | Train 3.5902/0.0444 | Val 3.6194/0.0267\n"
          ]
        },
        {
          "metadata": {
            "tags": null
          },
          "name": "stderr",
          "output_type": "stream",
          "text": [
            "Train E004: 100%|██████████| 11/11 [00:01<00:00, 10.46it/s]\n"
          ]
        },
        {
          "metadata": {
            "tags": null
          },
          "name": "stdout",
          "output_type": "stream",
          "text": [
            "Epoch 004 | Train 3.6079/0.0311 | Val 3.6038/0.0356\n",
            "  -> Saved best: 0.035555555555555556\n"
          ]
        },
        {
          "metadata": {
            "tags": null
          },
          "name": "stderr",
          "output_type": "stream",
          "text": [
            "Train E005: 100%|██████████| 11/11 [00:01<00:00, 10.38it/s]\n"
          ]
        },
        {
          "metadata": {
            "tags": null
          },
          "name": "stdout",
          "output_type": "stream",
          "text": [
            "Epoch 005 | Train 3.5491/0.0400 | Val 3.6074/0.0444\n",
            "  -> Saved best: 0.044444444444444446\n"
          ]
        },
        {
          "metadata": {
            "tags": null
          },
          "name": "stderr",
          "output_type": "stream",
          "text": [
            "Train E006: 100%|██████████| 11/11 [00:01<00:00, 10.43it/s]\n"
          ]
        },
        {
          "metadata": {
            "tags": null
          },
          "name": "stdout",
          "output_type": "stream",
          "text": [
            "Epoch 006 | Train 3.5863/0.0385 | Val 3.5345/0.0356\n"
          ]
        },
        {
          "metadata": {
            "tags": null
          },
          "name": "stderr",
          "output_type": "stream",
          "text": [
            "Train E007: 100%|██████████| 11/11 [00:01<00:00,  9.33it/s]\n"
          ]
        },
        {
          "metadata": {
            "tags": null
          },
          "name": "stdout",
          "output_type": "stream",
          "text": [
            "Epoch 007 | Train 3.4155/0.0622 | Val 3.3686/0.0444\n"
          ]
        },
        {
          "metadata": {
            "tags": null
          },
          "name": "stderr",
          "output_type": "stream",
          "text": [
            "Train E008: 100%|██████████| 11/11 [00:01<00:00,  7.82it/s]\n"
          ]
        },
        {
          "metadata": {
            "tags": null
          },
          "name": "stdout",
          "output_type": "stream",
          "text": [
            "Epoch 008 | Train 2.8943/0.1496 | Val 2.7971/0.1244\n",
            "  -> Saved best: 0.12444444444444444\n"
          ]
        },
        {
          "metadata": {
            "tags": null
          },
          "name": "stderr",
          "output_type": "stream",
          "text": [
            "Train E009: 100%|██████████| 11/11 [00:01<00:00, 10.22it/s]\n"
          ]
        },
        {
          "metadata": {
            "tags": null
          },
          "name": "stdout",
          "output_type": "stream",
          "text": [
            "Epoch 009 | Train 2.6615/0.1822 | Val 2.4930/0.2444\n",
            "  -> Saved best: 0.24444444444444444\n"
          ]
        },
        {
          "metadata": {
            "tags": null
          },
          "name": "stderr",
          "output_type": "stream",
          "text": [
            "Train E010: 100%|██████████| 11/11 [00:01<00:00, 10.25it/s]\n"
          ]
        },
        {
          "metadata": {
            "tags": null
          },
          "name": "stdout",
          "output_type": "stream",
          "text": [
            "Epoch 010 | Train 2.1085/0.3126 | Val 2.0743/0.3511\n",
            "  -> Saved best: 0.3511111111111111\n"
          ]
        },
        {
          "metadata": {
            "tags": null
          },
          "name": "stderr",
          "output_type": "stream",
          "text": [
            "Train E011: 100%|██████████| 11/11 [00:01<00:00, 10.50it/s]\n"
          ]
        },
        {
          "metadata": {
            "tags": null
          },
          "name": "stdout",
          "output_type": "stream",
          "text": [
            "Epoch 011 | Train 1.9551/0.3570 | Val 1.9000/0.4044\n",
            "  -> Saved best: 0.40444444444444444\n"
          ]
        },
        {
          "metadata": {
            "tags": null
          },
          "name": "stderr",
          "output_type": "stream",
          "text": [
            "Train E012: 100%|██████████| 11/11 [00:01<00:00, 10.40it/s]\n"
          ]
        },
        {
          "metadata": {
            "tags": null
          },
          "name": "stdout",
          "output_type": "stream",
          "text": [
            "Epoch 012 | Train 1.4461/0.5141 | Val 1.5892/0.4933\n",
            "  -> Saved best: 0.49333333333333335\n"
          ]
        },
        {
          "metadata": {
            "tags": null
          },
          "name": "stderr",
          "output_type": "stream",
          "text": [
            "Train E013: 100%|██████████| 11/11 [00:01<00:00,  9.19it/s]\n"
          ]
        },
        {
          "metadata": {
            "tags": null
          },
          "name": "stdout",
          "output_type": "stream",
          "text": [
            "Epoch 013 | Train 1.5528/0.4948 | Val 1.4307/0.5511\n",
            "  -> Saved best: 0.5511111111111111\n"
          ]
        },
        {
          "metadata": {
            "tags": null
          },
          "name": "stderr",
          "output_type": "stream",
          "text": [
            "Train E014: 100%|██████████| 11/11 [00:01<00:00,  8.04it/s]\n"
          ]
        },
        {
          "metadata": {
            "tags": null
          },
          "name": "stdout",
          "output_type": "stream",
          "text": [
            "Epoch 014 | Train 1.0351/0.6919 | Val 1.0891/0.6667\n",
            "  -> Saved best: 0.6666666666666666\n"
          ]
        },
        {
          "metadata": {
            "tags": null
          },
          "name": "stderr",
          "output_type": "stream",
          "text": [
            "Train E015: 100%|██████████| 11/11 [00:01<00:00, 10.52it/s]\n"
          ]
        },
        {
          "metadata": {
            "tags": null
          },
          "name": "stdout",
          "output_type": "stream",
          "text": [
            "Epoch 015 | Train 0.8524/0.7452 | Val 0.9633/0.6844\n",
            "  -> Saved best: 0.6844444444444444\n"
          ]
        },
        {
          "metadata": {
            "tags": null
          },
          "name": "stderr",
          "output_type": "stream",
          "text": [
            "Train E016: 100%|██████████| 11/11 [00:01<00:00, 10.30it/s]\n"
          ]
        },
        {
          "metadata": {
            "tags": null
          },
          "name": "stdout",
          "output_type": "stream",
          "text": [
            "Epoch 016 | Train 0.5661/0.8119 | Val 0.8751/0.7422\n",
            "  -> Saved best: 0.7422222222222222\n"
          ]
        },
        {
          "metadata": {
            "tags": null
          },
          "name": "stderr",
          "output_type": "stream",
          "text": [
            "Train E017: 100%|██████████| 11/11 [00:01<00:00, 10.40it/s]\n"
          ]
        },
        {
          "metadata": {
            "tags": null
          },
          "name": "stdout",
          "output_type": "stream",
          "text": [
            "Epoch 017 | Train 0.5361/0.8444 | Val 0.7571/0.7867\n",
            "  -> Saved best: 0.7866666666666666\n"
          ]
        },
        {
          "metadata": {
            "tags": null
          },
          "name": "stderr",
          "output_type": "stream",
          "text": [
            "Train E018: 100%|██████████| 11/11 [00:01<00:00,  9.92it/s]\n"
          ]
        },
        {
          "metadata": {
            "tags": null
          },
          "name": "stdout",
          "output_type": "stream",
          "text": [
            "Epoch 018 | Train 0.4082/0.8815 | Val 0.6859/0.7600\n"
          ]
        },
        {
          "metadata": {
            "tags": null
          },
          "name": "stderr",
          "output_type": "stream",
          "text": [
            "Train E019: 100%|██████████| 11/11 [00:01<00:00,  7.98it/s]\n"
          ]
        },
        {
          "metadata": {
            "tags": null
          },
          "name": "stdout",
          "output_type": "stream",
          "text": [
            "Epoch 019 | Train 0.3169/0.8933 | Val 0.7334/0.7911\n",
            "  -> Saved best: 0.7911111111111111\n"
          ]
        },
        {
          "metadata": {
            "tags": null
          },
          "name": "stderr",
          "output_type": "stream",
          "text": [
            "Train E020: 100%|██████████| 11/11 [00:01<00:00, 10.49it/s]\n"
          ]
        },
        {
          "metadata": {
            "tags": null
          },
          "name": "stdout",
          "output_type": "stream",
          "text": [
            "Epoch 020 | Train 0.2425/0.9289 | Val 0.5242/0.8089\n",
            "  -> Saved best: 0.8088888888888889\n"
          ]
        },
        {
          "metadata": {
            "tags": null
          },
          "name": "stderr",
          "output_type": "stream",
          "text": [
            "Train E021: 100%|██████████| 11/11 [00:01<00:00, 10.13it/s]\n"
          ]
        },
        {
          "metadata": {
            "tags": null
          },
          "name": "stdout",
          "output_type": "stream",
          "text": [
            "Epoch 021 | Train 0.2167/0.9437 | Val 0.5819/0.8489\n",
            "  -> Saved best: 0.8488888888888889\n"
          ]
        },
        {
          "metadata": {
            "tags": null
          },
          "name": "stderr",
          "output_type": "stream",
          "text": [
            "Train E022: 100%|██████████| 11/11 [00:01<00:00,  9.48it/s]\n"
          ]
        },
        {
          "metadata": {
            "tags": null
          },
          "name": "stdout",
          "output_type": "stream",
          "text": [
            "Epoch 022 | Train 0.1307/0.9600 | Val 0.3886/0.8889\n",
            "  -> Saved best: 0.8888888888888888\n"
          ]
        },
        {
          "metadata": {
            "tags": null
          },
          "name": "stderr",
          "output_type": "stream",
          "text": [
            "Train E023: 100%|██████████| 11/11 [00:01<00:00, 10.15it/s]\n"
          ]
        },
        {
          "metadata": {
            "tags": null
          },
          "name": "stdout",
          "output_type": "stream",
          "text": [
            "Epoch 023 | Train 0.1341/0.9644 | Val 0.4473/0.8667\n"
          ]
        },
        {
          "metadata": {
            "tags": null
          },
          "name": "stderr",
          "output_type": "stream",
          "text": [
            "Train E024: 100%|██████████| 11/11 [00:01<00:00, 10.44it/s]\n"
          ]
        },
        {
          "metadata": {
            "tags": null
          },
          "name": "stdout",
          "output_type": "stream",
          "text": [
            "Epoch 024 | Train 0.1507/0.9585 | Val 0.4766/0.8444\n"
          ]
        },
        {
          "metadata": {
            "tags": null
          },
          "name": "stderr",
          "output_type": "stream",
          "text": [
            "Train E025: 100%|██████████| 11/11 [00:01<00:00,  8.15it/s]\n"
          ]
        },
        {
          "metadata": {
            "tags": null
          },
          "name": "stdout",
          "output_type": "stream",
          "text": [
            "Epoch 025 | Train 0.1466/0.9556 | Val 0.4822/0.8622\n"
          ]
        },
        {
          "metadata": {
            "tags": null
          },
          "name": "stderr",
          "output_type": "stream",
          "text": [
            "Train E026: 100%|██████████| 11/11 [00:01<00:00,  9.40it/s]\n"
          ]
        },
        {
          "metadata": {
            "tags": null
          },
          "name": "stdout",
          "output_type": "stream",
          "text": [
            "Epoch 026 | Train 0.1445/0.9570 | Val 0.5564/0.8578\n"
          ]
        },
        {
          "metadata": {
            "tags": null
          },
          "name": "stderr",
          "output_type": "stream",
          "text": [
            "Train E027: 100%|██████████| 11/11 [00:01<00:00, 10.57it/s]\n"
          ]
        },
        {
          "metadata": {
            "tags": null
          },
          "name": "stdout",
          "output_type": "stream",
          "text": [
            "Epoch 027 | Train 0.1428/0.9585 | Val 0.4434/0.8533\n"
          ]
        },
        {
          "metadata": {
            "tags": null
          },
          "name": "stderr",
          "output_type": "stream",
          "text": [
            "Train E028: 100%|██████████| 11/11 [00:01<00:00, 10.46it/s]\n"
          ]
        },
        {
          "metadata": {
            "tags": null
          },
          "name": "stdout",
          "output_type": "stream",
          "text": [
            "Epoch 028 | Train 0.1152/0.9615 | Val 0.5921/0.8578\n"
          ]
        },
        {
          "metadata": {
            "tags": null
          },
          "name": "stderr",
          "output_type": "stream",
          "text": [
            "Train E029: 100%|██████████| 11/11 [00:01<00:00, 10.42it/s]\n"
          ]
        },
        {
          "metadata": {
            "tags": null
          },
          "name": "stdout",
          "output_type": "stream",
          "text": [
            "Epoch 029 | Train 0.1250/0.9556 | Val 0.4351/0.8756\n"
          ]
        },
        {
          "metadata": {
            "tags": null
          },
          "name": "stderr",
          "output_type": "stream",
          "text": [
            "Train E030: 100%|██████████| 11/11 [00:01<00:00, 10.46it/s]\n"
          ]
        },
        {
          "metadata": {
            "tags": null
          },
          "name": "stdout",
          "output_type": "stream",
          "text": [
            "Epoch 030 | Train 0.0760/0.9748 | Val 0.5985/0.8533\n"
          ]
        },
        {
          "metadata": {
            "tags": null
          },
          "name": "stderr",
          "output_type": "stream",
          "text": [
            "Train E031: 100%|██████████| 11/11 [00:01<00:00, 10.31it/s]\n"
          ]
        },
        {
          "metadata": {
            "tags": null
          },
          "name": "stdout",
          "output_type": "stream",
          "text": [
            "Epoch 031 | Train 0.1036/0.9763 | Val 0.5026/0.8489\n"
          ]
        },
        {
          "metadata": {
            "tags": null
          },
          "name": "stderr",
          "output_type": "stream",
          "text": [
            "Train E032: 100%|██████████| 11/11 [00:01<00:00, 10.40it/s]\n"
          ]
        },
        {
          "metadata": {
            "tags": null
          },
          "name": "stdout",
          "output_type": "stream",
          "text": [
            "Epoch 032 | Train 0.0650/0.9719 | Val 0.2818/0.9200\n",
            "  -> Saved best: 0.92\n"
          ]
        },
        {
          "metadata": {
            "tags": null
          },
          "name": "stderr",
          "output_type": "stream",
          "text": [
            "Train E033: 100%|██████████| 11/11 [00:01<00:00,  8.82it/s]\n"
          ]
        },
        {
          "metadata": {
            "tags": null
          },
          "name": "stdout",
          "output_type": "stream",
          "text": [
            "Epoch 033 | Train 0.0446/0.9867 | Val 0.2063/0.9289\n",
            "  -> Saved best: 0.9288888888888889\n"
          ]
        },
        {
          "metadata": {
            "tags": null
          },
          "name": "stderr",
          "output_type": "stream",
          "text": [
            "Train E034: 100%|██████████| 11/11 [00:01<00:00,  9.92it/s]\n"
          ]
        },
        {
          "metadata": {
            "tags": null
          },
          "name": "stdout",
          "output_type": "stream",
          "text": [
            "Epoch 034 | Train 0.0909/0.9674 | Val 0.4219/0.8711\n"
          ]
        },
        {
          "metadata": {
            "tags": null
          },
          "name": "stderr",
          "output_type": "stream",
          "text": [
            "Train E035: 100%|██████████| 11/11 [00:01<00:00, 10.27it/s]\n"
          ]
        },
        {
          "metadata": {
            "tags": null
          },
          "name": "stdout",
          "output_type": "stream",
          "text": [
            "Epoch 035 | Train 0.0625/0.9793 | Val 0.4239/0.8578\n"
          ]
        },
        {
          "metadata": {
            "tags": null
          },
          "name": "stderr",
          "output_type": "stream",
          "text": [
            "Train E036: 100%|██████████| 11/11 [00:01<00:00, 10.61it/s]\n"
          ]
        },
        {
          "metadata": {
            "tags": null
          },
          "name": "stdout",
          "output_type": "stream",
          "text": [
            "Epoch 036 | Train 0.0571/0.9807 | Val 0.4784/0.8756\n"
          ]
        },
        {
          "metadata": {
            "tags": null
          },
          "name": "stderr",
          "output_type": "stream",
          "text": [
            "Train E037: 100%|██████████| 11/11 [00:01<00:00, 10.51it/s]\n"
          ]
        },
        {
          "metadata": {
            "tags": null
          },
          "name": "stdout",
          "output_type": "stream",
          "text": [
            "Epoch 037 | Train 0.0927/0.9733 | Val 0.4474/0.8711\n"
          ]
        },
        {
          "metadata": {
            "tags": null
          },
          "name": "stderr",
          "output_type": "stream",
          "text": [
            "Train E038: 100%|██████████| 11/11 [00:01<00:00, 10.22it/s]\n"
          ]
        },
        {
          "metadata": {
            "tags": null
          },
          "name": "stdout",
          "output_type": "stream",
          "text": [
            "Epoch 038 | Train 0.0504/0.9822 | Val 0.3274/0.8933\n"
          ]
        },
        {
          "metadata": {
            "tags": null
          },
          "name": "stderr",
          "output_type": "stream",
          "text": [
            "Train E039: 100%|██████████| 11/11 [00:01<00:00,  6.53it/s]\n"
          ]
        },
        {
          "metadata": {
            "tags": null
          },
          "name": "stdout",
          "output_type": "stream",
          "text": [
            "Epoch 039 | Train 0.0252/0.9911 | Val 0.3407/0.8978\n"
          ]
        },
        {
          "metadata": {
            "tags": null
          },
          "name": "stderr",
          "output_type": "stream",
          "text": [
            "Train E040: 100%|██████████| 11/11 [00:01<00:00,  7.50it/s]\n"
          ]
        },
        {
          "metadata": {
            "tags": null
          },
          "name": "stdout",
          "output_type": "stream",
          "text": [
            "Epoch 040 | Train 0.0467/0.9881 | Val 0.3608/0.9067\n"
          ]
        },
        {
          "metadata": {
            "tags": null
          },
          "name": "stderr",
          "output_type": "stream",
          "text": [
            "Train E041: 100%|██████████| 11/11 [00:01<00:00, 10.14it/s]\n"
          ]
        },
        {
          "metadata": {
            "tags": null
          },
          "name": "stdout",
          "output_type": "stream",
          "text": [
            "Epoch 041 | Train 0.0499/0.9867 | Val 0.3127/0.9244\n"
          ]
        },
        {
          "metadata": {
            "tags": null
          },
          "name": "stderr",
          "output_type": "stream",
          "text": [
            "Train E042: 100%|██████████| 11/11 [00:01<00:00, 10.35it/s]\n"
          ]
        },
        {
          "metadata": {
            "tags": null
          },
          "name": "stdout",
          "output_type": "stream",
          "text": [
            "Epoch 042 | Train 0.0560/0.9852 | Val 0.3710/0.8800\n"
          ]
        },
        {
          "metadata": {
            "tags": null
          },
          "name": "stderr",
          "output_type": "stream",
          "text": [
            "Train E043: 100%|██████████| 11/11 [00:01<00:00,  9.90it/s]\n"
          ]
        },
        {
          "metadata": {
            "tags": null
          },
          "name": "stdout",
          "output_type": "stream",
          "text": [
            "Epoch 043 | Train 0.0374/0.9881 | Val 0.3893/0.8978\n"
          ]
        },
        {
          "metadata": {
            "tags": null
          },
          "name": "stderr",
          "output_type": "stream",
          "text": [
            "Train E044: 100%|██████████| 11/11 [00:01<00:00, 10.19it/s]\n"
          ]
        },
        {
          "metadata": {
            "tags": null
          },
          "name": "stdout",
          "output_type": "stream",
          "text": [
            "Epoch 044 | Train 0.0660/0.9793 | Val 0.6549/0.8711\n"
          ]
        },
        {
          "metadata": {
            "tags": null
          },
          "name": "stderr",
          "output_type": "stream",
          "text": [
            "Train E045: 100%|██████████| 11/11 [00:01<00:00, 10.19it/s]\n"
          ]
        },
        {
          "metadata": {
            "tags": null
          },
          "name": "stdout",
          "output_type": "stream",
          "text": [
            "Epoch 045 | Train 0.0781/0.9733 | Val 0.5190/0.8711\n"
          ]
        },
        {
          "output_type": "stream",
          "name": "stderr",
          "text": [
            "Train E046: 100%|██████████| 11/11 [00:01<00:00, 10.11it/s]\n"
          ]
        },
        {
          "output_type": "stream",
          "name": "stdout",
          "text": [
            "Epoch 046 | Train 0.0640/0.9719 | Val 0.4750/0.8756\n"
          ]
        },
        {
          "output_type": "stream",
          "name": "stderr",
          "text": [
            "Train E047: 100%|██████████| 11/11 [00:01<00:00,  9.56it/s]\n"
          ]
        },
        {
          "output_type": "stream",
          "name": "stdout",
          "text": [
            "Epoch 047 | Train 0.0498/0.9837 | Val 0.6237/0.8133\n"
          ]
        },
        {
          "output_type": "stream",
          "name": "stderr",
          "text": [
            "Train E048: 100%|██████████| 11/11 [00:01<00:00,  7.14it/s]\n"
          ]
        },
        {
          "output_type": "stream",
          "name": "stdout",
          "text": [
            "Epoch 048 | Train 0.0495/0.9837 | Val 0.4606/0.8844\n"
          ]
        },
        {
          "output_type": "stream",
          "name": "stderr",
          "text": [
            "Train E049: 100%|██████████| 11/11 [00:01<00:00, 10.18it/s]\n"
          ]
        },
        {
          "output_type": "stream",
          "name": "stdout",
          "text": [
            "Epoch 049 | Train 0.0213/0.9941 | Val 0.4475/0.8933\n"
          ]
        },
        {
          "output_type": "stream",
          "name": "stderr",
          "text": [
            "Train E050: 100%|██████████| 11/11 [00:01<00:00, 10.14it/s]\n"
          ]
        },
        {
          "output_type": "stream",
          "name": "stdout",
          "text": [
            "Epoch 050 | Train 0.0128/0.9970 | Val 0.4989/0.8978\n"
          ]
        },
        {
          "output_type": "stream",
          "name": "stderr",
          "text": [
            "Train E051: 100%|██████████| 11/11 [00:01<00:00, 10.16it/s]\n"
          ]
        },
        {
          "output_type": "stream",
          "name": "stdout",
          "text": [
            "Epoch 051 | Train 0.0192/0.9926 | Val 0.5763/0.8800\n"
          ]
        },
        {
          "output_type": "stream",
          "name": "stderr",
          "text": [
            "Train E052: 100%|██████████| 11/11 [00:01<00:00, 10.11it/s]\n"
          ]
        },
        {
          "output_type": "stream",
          "name": "stdout",
          "text": [
            "Epoch 052 | Train 0.0389/0.9926 | Val 0.4276/0.8978\n"
          ]
        },
        {
          "output_type": "stream",
          "name": "stderr",
          "text": [
            "Train E053: 100%|██████████| 11/11 [00:01<00:00, 10.04it/s]\n"
          ]
        },
        {
          "output_type": "stream",
          "name": "stdout",
          "text": [
            "Epoch 053 | Train 0.0442/0.9867 | Val 0.3954/0.8933\n",
            "Early stopping.\n",
            "\n",
            "TTA accuracy: 0.8933\n",
            "\n",
            "TTA classification report:\n",
            "               precision    recall  f1-score   support\n",
            "\n",
            "           0       0.86      1.00      0.92         6\n",
            "           1       0.86      1.00      0.92         6\n",
            "           2       0.86      1.00      0.92         6\n",
            "           3       0.83      0.83      0.83         6\n",
            "           4       0.62      0.83      0.71         6\n",
            "           5       1.00      0.67      0.80         6\n",
            "           6       1.00      0.86      0.92         7\n",
            "           7       1.00      0.57      0.73         7\n",
            "           8       1.00      0.83      0.91         6\n",
            "           9       1.00      0.83      0.91         6\n",
            "           a       1.00      0.86      0.92         7\n",
            "           b       1.00      1.00      1.00         6\n",
            "           c       1.00      0.83      0.91         6\n",
            "           d       0.86      1.00      0.92         6\n",
            "           e       1.00      0.86      0.92         7\n",
            "           f       1.00      0.83      0.91         6\n",
            "           g       1.00      0.83      0.91         6\n",
            "           h       1.00      1.00      1.00         6\n",
            "           i       1.00      0.86      0.92         7\n",
            "           j       1.00      1.00      1.00         6\n",
            "           k       1.00      0.86      0.92         7\n",
            "           l       1.00      1.00      1.00         6\n",
            "           m       0.60      0.86      0.71         7\n",
            "           n       0.86      1.00      0.92         6\n",
            "           o       0.71      0.83      0.77         6\n",
            "           p       0.88      1.00      0.93         7\n",
            "           q       0.83      0.83      0.83         6\n",
            "           r       0.83      0.83      0.83         6\n",
            "           s       1.00      1.00      1.00         7\n",
            "           t       1.00      1.00      1.00         6\n",
            "           u       1.00      0.83      0.91         6\n",
            "           v       1.00      0.83      0.91         6\n",
            "           w       0.60      1.00      0.75         6\n",
            "           x       0.86      1.00      0.92         6\n",
            "           y       0.86      1.00      0.92         6\n",
            "           z       1.00      0.83      0.91         6\n",
            "\n",
            "    accuracy                           0.89       225\n",
            "   macro avg       0.91      0.89      0.90       225\n",
            "weighted avg       0.92      0.89      0.90       225\n",
            "\n",
            "Saved confusion matrix image to: ckpts_convnext_s_zoom/cm_tta.png\n",
            "Checkpoints in: ckpts_convnext_s_zoom\n"
          ]
        }
      ],
      "source": [
        "# Imports\n",
        "import os, sys, subprocess, shutil, random, warnings, timm\n",
        "import numpy as np, librosa, soundfile as sf\n",
        "import matplotlib; matplotlib.use(\"Agg\")\n",
        "import matplotlib.pyplot as plt, seaborn as sns\n",
        "from tqdm import tqdm\n",
        "import torch, torch.nn as nn, torch.nn.functional as F\n",
        "from torch.utils.data import Dataset, DataLoader, WeightedRandomSampler\n",
        "from sklearn.model_selection import train_test_split\n",
        "from sklearn.preprocessing import LabelEncoder\n",
        "from sklearn.metrics import accuracy_score, classification_report, confusion_matrix\n",
        "\n",
        "def pip_install(pkgs):\n",
        "    subprocess.run([sys.executable, \"-m\", \"pip\", \"install\", \"-q\", \"--upgrade\"] + pkgs, check=True)\n",
        "\n",
        "# Deps\n",
        "pip_install([\"librosa==0.10.1\",\"soundfile\",\"scikit-learn\",\"matplotlib\",\"pandas\",\"tqdm\",\"seaborn\",\"timm\"])\n",
        "rc = subprocess.run([sys.executable, \"-m\", \"pip\", \"install\", \"-q\",\n",
        "                     \"torch\",\"torchvision\",\"torchaudio\",\n",
        "                     \"--index-url\",\"https://download.pytorch.org/whl/cu121\"]).returncode\n",
        "if rc != 0:\n",
        "    rc = subprocess.run([sys.executable, \"-m\", \"pip\", \"install\", \"-q\",\n",
        "                         \"torch\",\"torchvision\",\"torchaudio\",\n",
        "                         \"--index-url\",\"https://download.pytorch.org/whl/cu118\"]).returncode\n",
        "    if rc != 0:\n",
        "        pip_install([\"torch\",\"torchvision\",\"torchaudio\"])\n",
        "\n",
        "# Dataset\n",
        "if os.path.exists(\"Keystroke-Datasets\"):\n",
        "    shutil.rmtree(\"Keystroke-Datasets\")\n",
        "subprocess.run([\"git\",\"clone\",\"https://github.com/JBFH-Dev/Keystroke-Datasets.git\"], check=True)\n",
        "\n",
        "# Seeds & determinism\n",
        "SEED=42\n",
        "random.seed(SEED); np.random.seed(SEED); torch.manual_seed(SEED)\n",
        "torch.backends.cudnn.deterministic=True\n",
        "torch.backends.cudnn.benchmark=False\n",
        "\n",
        "DATASET_DIRS = ['Keystroke-Datasets/Zoom']\n",
        "KEYS = list(\"1234567890qwertyuiopasdfghjklzxcvbnm\")\n",
        "\n",
        "# Audio slice & mels\n",
        "TARGET_SR = 44100\n",
        "TARGET_LEN_S = 0.28\n",
        "TARGET_SAMPLES = int(TARGET_SR * TARGET_LEN_S)\n",
        "N_MELS, N_FFT, HOP = 64, 1024, 255\n",
        "FMIN, FMAX = 50, 8000\n",
        "IMG_H = IMG_W = 64\n",
        "\n",
        "# Train setup\n",
        "EPOCHS = 120\n",
        "BATCH = 64\n",
        "LR_MAX = 7e-4\n",
        "WD = 1e-4\n",
        "LABEL_SMOOTH = 0.0   # (changed from 0.02)\n",
        "OUT_DIR = \"ckpts_convnext_s_zoom\"\n",
        "os.makedirs(OUT_DIR, exist_ok=True)\n",
        "\n",
        "device = torch.device(\"cuda\" if torch.cuda.is_available() else \"cpu\")\n",
        "print(\"Device:\", device)\n",
        "\n",
        "# Keystroke isolator\n",
        "def isolator(signal, sr, n_fft=48, hop=24, before=2400, after=12000, threshold=0.06, min_gap_sec=0.1):\n",
        "    fft = librosa.stft(signal, n_fft=n_fft, hop_length=hop)\n",
        "    energy = np.abs(np.sum(fft, axis=0)).astype(float)\n",
        "    peaks = np.where(energy > threshold)[0]\n",
        "    strokes, prev_end = [], -int(min_gap_sec * sr)\n",
        "    for p in peaks:\n",
        "        ts = (p * hop) + n_fft // 2\n",
        "        if ts > prev_end + int(min_gap_sec * sr):\n",
        "            start = max(0, ts - before)\n",
        "            end   = min(len(signal), ts + after)\n",
        "            strokes.append(signal[start:end])\n",
        "            prev_end = end\n",
        "    return strokes\n",
        "\n",
        "def build_strokes(dataset_dirs, keys=KEYS, target_per_key=25, sr_target=TARGET_SR):\n",
        "    rows=[]\n",
        "    for ds in dataset_dirs:\n",
        "        base=os.path.basename(ds)\n",
        "        for ch in tqdm(keys, desc=f\"Extracting from {base}\"):\n",
        "            wav_path=os.path.join(ds,f\"{ch}.wav\")\n",
        "            if not os.path.exists(wav_path): continue\n",
        "            y, sr = librosa.load(wav_path, sr=sr_target)\n",
        "            y = y[int(0.8*sr):]  # drop head\n",
        "            prom, step, tries = 0.06, 0.005, 0\n",
        "            strokes=[]\n",
        "            while len(strokes)!=target_per_key and tries<60:\n",
        "                strokes = isolator(y, sr, threshold=prom)\n",
        "                if len(strokes)<target_per_key: prom=max(1e-5, prom-step)\n",
        "                elif len(strokes)>target_per_key: prom+=step\n",
        "                step*=0.98; tries+=1\n",
        "            if not strokes: continue\n",
        "            if len(strokes)>target_per_key: strokes=strokes[:target_per_key]\n",
        "            for s in strokes: rows.append((ch,s,sr))\n",
        "    return rows\n",
        "\n",
        "print(\">> Building strokes ...\")\n",
        "strokes=build_strokes(DATASET_DIRS)\n",
        "print(\"Total strokes:\", len(strokes))\n",
        "\n",
        "# Center-crop around RMS peak\n",
        "def center_crop_seg(y, sr):\n",
        "    rms = librosa.feature.rms(y=y, frame_length=256, hop_length=64).flatten()\n",
        "    pk = int(np.argmax(rms))*64\n",
        "    start = max(0, pk - TARGET_SAMPLES//2)\n",
        "    end = start + TARGET_SAMPLES\n",
        "    if end>len(y):\n",
        "        start = max(0, len(y)-TARGET_SAMPLES); end=len(y)\n",
        "    seg = y[start:end]\n",
        "    if len(seg)<TARGET_SAMPLES: seg=np.pad(seg,(0,TARGET_SAMPLES-len(seg)))\n",
        "    amax = np.max(np.abs(seg))\n",
        "    if amax>0: seg = seg/(amax+1e-8)\n",
        "    return seg\n",
        "\n",
        "def mel_3ch(seg, sr):\n",
        "    S = librosa.feature.melspectrogram(y=seg, sr=sr, n_fft=N_FFT, hop_length=HOP,\n",
        "                                       n_mels=N_MELS, fmin=FMIN, fmax=FMAX, power=2.0)\n",
        "    Sdb = librosa.power_to_db(S, ref=np.max).astype(np.float32)\n",
        "    D1 = librosa.feature.delta(Sdb)\n",
        "    D2 = librosa.feature.delta(Sdb, order=2)\n",
        "    X = np.stack([Sdb, D1, D2], axis=0)  # (3, n_mels, T)\n",
        "    T = X.shape[2]\n",
        "    if T < IMG_W:\n",
        "        X = np.pad(X, ((0,0),(0,0),(0,IMG_W-T)), mode=\"edge\")\n",
        "    else:\n",
        "        X = X[:, :, :IMG_W]\n",
        "    for c in range(3):\n",
        "        mu, sd = X[c].mean(), X[c].std()+1e-6\n",
        "        X[c] = (X[c]-mu)/sd\n",
        "    return X.astype(np.float32)\n",
        "\n",
        "# Build arrays\n",
        "X, Y = [], []\n",
        "for label, audio, sr in tqdm(strokes, desc=\"Center-crop + 3ch mel\"):\n",
        "    seg = center_crop_seg(audio, sr)\n",
        "    X.append(mel_3ch(seg, sr))\n",
        "    Y.append(label)\n",
        "X = np.array(X, dtype=np.float32)\n",
        "Y = np.array(Y)\n",
        "print(\"X shape:\", X.shape, \"num classes:\", len(np.unique(Y)))\n",
        "\n",
        "# Encode/split\n",
        "le = LabelEncoder().fit(Y)\n",
        "y_int = le.transform(Y)\n",
        "num_classes = len(le.classes_)\n",
        "X_train, X_test, y_train, y_test = train_test_split(\n",
        "    X, y_int, test_size=0.25, stratify=y_int, random_state=SEED\n",
        ")\n",
        "print(\"Train:\", X_train.shape, \" Test:\", X_test.shape)\n",
        "\n",
        "# Light SpecAugment\n",
        "def specaug_light(x):\n",
        "    x=x.copy()\n",
        "    if random.random()<0.25:\n",
        "        t = random.randint(3,7); t0 = random.randint(0,64-t)\n",
        "        x[:, :, t0:t0+t] = 0.0\n",
        "    if random.random()<0.25:\n",
        "        f = random.randint(3,7); f0 = random.randint(0,64-f)\n",
        "        x[:, f0:f0+f, :] = 0.0\n",
        "    if random.random()<0.20:\n",
        "        sh = random.randint(-3,3)\n",
        "        x = np.roll(x, sh, axis=2)\n",
        "    return x\n",
        "\n",
        "class KSDataset(Dataset):\n",
        "    def __init__(self, X,y,augment=False):\n",
        "        self.X, self.y, self.augment = X,y,augment\n",
        "    def __len__(self): return len(self.X)\n",
        "    def __getitem__(self,i):\n",
        "        x = self.X[i]\n",
        "        if self.augment: x = specaug_light(x)\n",
        "        return torch.from_numpy(x).float(), torch.tensor(self.y[i], dtype=torch.long)\n",
        "\n",
        "train_ds = KSDataset(X_train, y_train, augment=True)\n",
        "val_ds   = KSDataset(X_test,  y_test,  augment=False)\n",
        "\n",
        "counts = np.bincount(y_train)\n",
        "class_w = 1.0/np.clip(counts,1,None)\n",
        "sample_w = class_w[y_train]\n",
        "sampler = WeightedRandomSampler(sample_w, num_samples=len(sample_w), replacement=True)\n",
        "\n",
        "train_loader = DataLoader(train_ds, batch_size=BATCH, sampler=sampler, num_workers=2, pin_memory=True)\n",
        "val_loader   = DataLoader(val_ds, batch_size=BATCH, shuffle=False, num_workers=2, pin_memory=True)\n",
        "\n",
        "# Model: ConvNeXt-Small\n",
        "model = timm.create_model(\"convnext_small\", pretrained=True, in_chans=3, num_classes=num_classes).to(device)\n",
        "\n",
        "# Loss/opt/sched\n",
        "criterion = nn.CrossEntropyLoss(label_smoothing=LABEL_SMOOTH)\n",
        "optimizer = torch.optim.AdamW(model.parameters(), lr=LR_MAX, weight_decay=WD)\n",
        "scheduler = torch.optim.lr_scheduler.OneCycleLR(\n",
        "    optimizer, max_lr=LR_MAX, epochs=EPOCHS, steps_per_epoch=len(train_loader),\n",
        "    pct_start=0.15, anneal_strategy='cos', div_factor=10.0, final_div_factor=1e3\n",
        ")\n",
        "scaler = torch.amp.GradScaler('cuda', enabled=(device.type==\"cuda\"))\n",
        "best_acc, patience, no_imp = 0.0, 20, 0\n",
        "for epoch in range(1, EPOCHS+1):\n",
        "    model.train()\n",
        "    tot, corr, runloss = 0, 0, 0.0\n",
        "    for xb, yb in tqdm(train_loader, desc=f\"Train E{epoch:03d}\"):\n",
        "        xb, yb = xb.to(device, dtype=torch.float32), yb.to(device)\n",
        "        optimizer.zero_grad(set_to_none=True)\n",
        "        with torch.amp.autocast('cuda'):\n",
        "            out = model(xb)\n",
        "            loss = criterion(out, yb)\n",
        "        scaler.scale(loss).backward()\n",
        "        scaler.step(optimizer)\n",
        "        scaler.update()\n",
        "        scheduler.step()\n",
        "        runloss += loss.item()*xb.size(0)\n",
        "        with torch.no_grad():\n",
        "            preds = out.argmax(1); corr += (preds==yb).sum().item(); tot += yb.size(0)\n",
        "    tr_loss, tr_acc = runloss/tot, corr/tot\n",
        "\n",
        "    # val\n",
        "    model.eval()\n",
        "    v_tot, v_corr, v_loss = 0, 0, 0.0\n",
        "    with torch.no_grad():\n",
        "        for xb, yb in val_loader:\n",
        "            xb, yb = xb.to(device, dtype=torch.float32), yb.to(device)\n",
        "            out = model(xb); loss = criterion(out, yb)\n",
        "            v_loss += loss.item()*xb.size(0)\n",
        "            v_corr += (out.argmax(1)==yb).sum().item(); v_tot += yb.size(0)\n",
        "    val_loss, val_acc = v_loss/v_tot, v_corr/v_tot\n",
        "    print(f\"Epoch {epoch:03d} | Train {tr_loss:.4f}/{tr_acc:.4f} | Val {val_loss:.4f}/{val_acc:.4f}\")\n",
        "\n",
        "    if val_acc > best_acc:\n",
        "        best_acc = val_acc; no_imp = 0\n",
        "        torch.save({'model_state': model.state_dict(), 'classes': list(map(str, le.classes_))},\n",
        "                   os.path.join(OUT_DIR, \"best.pt\"))\n",
        "        print(\"  -> Saved best:\", best_acc)\n",
        "    else:\n",
        "        no_imp += 1\n",
        "        if no_imp >= patience:\n",
        "            print(\"Early stopping.\"); break\n",
        "\n",
        "# Final eval (with TTA)\n",
        "ck = torch.load(os.path.join(OUT_DIR, \"best.pt\"), map_location=device)\n",
        "model.load_state_dict(ck['model_state'])\n",
        "model.eval()\n",
        "\n",
        "def tta_logits(model, xb, shifts=(-4, -2, -1, 0, 1, 2, 4)):\n",
        "    with torch.no_grad():\n",
        "        acc_logits = None\n",
        "        for sh in shifts:\n",
        "            x = xb if sh==0 else torch.roll(xb, shifts=sh, dims=3)  # roll time-axis\n",
        "            out = model(x)\n",
        "            acc_logits = out if acc_logits is None else (acc_logits + out)\n",
        "        return acc_logits / len(shifts)\n",
        "\n",
        "all_p, all_t = [], []\n",
        "with torch.no_grad():\n",
        "    for xb, yb in val_loader:\n",
        "        xb = xb.to(device, dtype=torch.float32)\n",
        "        logits = tta_logits(model, xb)      # TTA inference\n",
        "        pred = logits.argmax(1).cpu().numpy().tolist()\n",
        "        all_p.extend(pred); all_t.extend(yb.numpy().tolist())\n",
        "\n",
        "acc = accuracy_score(all_t, all_p)\n",
        "print(f\"\\nTTA accuracy: {acc:.4f}\\n\")\n",
        "print(\"TTA classification report:\\n\", classification_report(all_t, all_p, target_names=list(map(str, le.classes_))))\n",
        "\n",
        "cm = confusion_matrix(all_t, all_p)\n",
        "plt.figure(figsize=(12,10))\n",
        "sns.heatmap(cm, annot=False, cmap='Blues',\n",
        "            xticklabels=list(map(str, le.classes_)),\n",
        "            yticklabels=list(map(str, le.classes_)))\n",
        "plt.xlabel(\"Predicted\"); plt.ylabel(\"True\"); plt.title(\"Confusion Matrix (ConvNeXt-S, Zoom-only, TTA)\")\n",
        "plt.tight_layout()\n",
        "cm_path = os.path.join(OUT_DIR, \"cm_tta.png\")\n",
        "plt.savefig(cm_path, dpi=140)\n",
        "print(\"Saved confusion matrix image to:\", cm_path)\n",
        "print(\"Checkpoints in:\", OUT_DIR)"
      ]
    }
  ],
  "metadata": {
    "accelerator": "GPU",
    "colab": {
      "gpuType": "T4",
      "provenance": []
    },
    "kernelspec": {
      "display_name": "Python 3",
      "name": "python3"
    },
    "language_info": {
      "name": "python"
    }
  },
  "nbformat": 4,
  "nbformat_minor": 0
}